{
 "cells": [
  {
   "cell_type": "markdown",
   "id": "ac0eb734",
   "metadata": {},
   "source": [
    "# Chapter 2 - Categorization of Text by summary\n",
    "\n",
    "In this chapter, we will run a first categorization of the HP fanfiction English dataset based on the tropes found in the summary of each story. \n",
    "\n",
    "To identify the tropes, we will use the technique of Bag of Words and N-grams, to identify words which are the most important.\n",
    "\n",
    "The goal is to be able to identify common tropes from the HP fanfiction world like '8th year', 'Mariage Law', 'Marauders', etc. The aim is to complete the current categorization done by the author with more hp-specific thematics.\n",
    "\n",
    "A lot of the code is inspired from *Blueprints for Text Analytics using Python*, Jens Albrecht, Sidharth Ramachandran, Christian Winkler, O'Reilly, 2020, which can be found here : https://github.com/blueprints-for-text-analytics-python/blueprints-text"
   ]
  },
  {
   "cell_type": "markdown",
   "id": "07420b44",
   "metadata": {},
   "source": [
    "# Table of Content\n",
    "\n",
    "- Settings\n",
    "- Text Pre-Processing\n",
    "- Word Frequency Analysis"
   ]
  },
  {
   "cell_type": "markdown",
   "id": "216f34b4",
   "metadata": {},
   "source": [
    "# Settings"
   ]
  },
  {
   "cell_type": "markdown",
   "id": "8ad71886",
   "metadata": {},
   "source": [
    "## Python settings & Importing the libraries \n",
    "Import the basic librairies : numpy, pandas, matplotlib, spacy, etc. Define the default settings for pandas and matplotlib"
   ]
  },
  {
   "cell_type": "code",
   "execution_count": 8,
   "id": "ff1c771f",
   "metadata": {},
   "outputs": [],
   "source": [
    "BASE_DIR = \"..\"\n",
    "%run \"$BASE_DIR/settings.py\""
   ]
  },
  {
   "cell_type": "markdown",
   "id": "402cad9e",
   "metadata": {},
   "source": [
    "## Importing the Dataset\n",
    "We will work with the English subset of the HP fanfiction dataset"
   ]
  },
  {
   "cell_type": "code",
   "execution_count": 18,
   "id": "966a90c6",
   "metadata": {
    "scrolled": true
   },
   "outputs": [
    {
     "data": {
      "text/html": [
       "<div>\n",
       "<style scoped>\n",
       "    .dataframe tbody tr th:only-of-type {\n",
       "        vertical-align: middle;\n",
       "    }\n",
       "\n",
       "    .dataframe tbody tr th {\n",
       "        vertical-align: top;\n",
       "    }\n",
       "\n",
       "    .dataframe thead th {\n",
       "        text-align: right;\n",
       "    }\n",
       "</style>\n",
       "<table border=\"1\" class=\"dataframe tex2jax_ignore\">\n",
       "  <thead>\n",
       "    <tr style=\"text-align: right;\">\n",
       "      <th></th>\n",
       "      <th>Chapters</th>\n",
       "      <th>Favs</th>\n",
       "      <th>Follows</th>\n",
       "      <th>Published</th>\n",
       "      <th>Reviews</th>\n",
       "      <th>Updated</th>\n",
       "      <th>Words</th>\n",
       "      <th>author</th>\n",
       "      <th>characters</th>\n",
       "      <th>genre</th>\n",
       "      <th>language</th>\n",
       "      <th>rating</th>\n",
       "      <th>story_link</th>\n",
       "      <th>synopsis</th>\n",
       "      <th>title</th>\n",
       "      <th>published_mmyy</th>\n",
       "      <th>pairing</th>\n",
       "    </tr>\n",
       "  </thead>\n",
       "  <tbody>\n",
       "    <tr>\n",
       "      <th>587150</th>\n",
       "      <td>1</td>\n",
       "      <td>1.00</td>\n",
       "      <td>3.00</td>\n",
       "      <td>2/3/2006</td>\n",
       "      <td>1.00</td>\n",
       "      <td>NaN</td>\n",
       "      <td>622</td>\n",
       "      <td>reviews</td>\n",
       "      <td>Hermione G., Ron W.</td>\n",
       "      <td>NaN</td>\n",
       "      <td>English</td>\n",
       "      <td>T</td>\n",
       "      <td>https://www.fanfiction.net/s/2783366/1/The-Sevenths-of-Year-Seven</td>\n",
       "      <td>Ron and Hermione. Intermittent moments on the Horcrux search.</td>\n",
       "      <td>The Sevenths of Year Seven</td>\n",
       "      <td>2-2006</td>\n",
       "      <td>Hermione G., Ron W.</td>\n",
       "    </tr>\n",
       "    <tr>\n",
       "      <th>20320</th>\n",
       "      <td>96</td>\n",
       "      <td>61.00</td>\n",
       "      <td>48.00</td>\n",
       "      <td>12/30/2018</td>\n",
       "      <td>48.00</td>\n",
       "      <td>4/9/2019</td>\n",
       "      <td>346390</td>\n",
       "      <td>girlfromkerteh</td>\n",
       "      <td>Sirius B., Remus L., James P., Peter P.</td>\n",
       "      <td>Angst/Romance</td>\n",
       "      <td>English</td>\n",
       "      <td>M</td>\n",
       "      <td>https://www.fanfiction.net/s/13162705/1/No-Such-Thing-As-Normal</td>\n",
       "      <td>Forming the Marauders was the best thing that happened to all four of them, they lived for the camaraderie. But friendship doesn't come without a few misunderstandings, secrets...</td>\n",
       "      <td>No Such Thing As Normal</td>\n",
       "      <td>12-2018</td>\n",
       "      <td>NaN</td>\n",
       "    </tr>\n",
       "    <tr>\n",
       "      <th>582614</th>\n",
       "      <td>1</td>\n",
       "      <td>NaN</td>\n",
       "      <td>NaN</td>\n",
       "      <td>3/6/2006</td>\n",
       "      <td>2.00</td>\n",
       "      <td>NaN</td>\n",
       "      <td>182</td>\n",
       "      <td>reviews</td>\n",
       "      <td>Remus L., Sirius B.</td>\n",
       "      <td>NaN</td>\n",
       "      <td>English</td>\n",
       "      <td>K</td>\n",
       "      <td>https://www.fanfiction.net/s/2832277/1/Long-Black-Hair</td>\n",
       "      <td>A poem about Remus mourning Sirius after the fall through the veil.</td>\n",
       "      <td>Long Black Hair</td>\n",
       "      <td>3-2006</td>\n",
       "      <td>Remus L., Sirius B.</td>\n",
       "    </tr>\n",
       "    <tr>\n",
       "      <th>199722</th>\n",
       "      <td>3</td>\n",
       "      <td>71.00</td>\n",
       "      <td>71.00</td>\n",
       "      <td>5/27/2013</td>\n",
       "      <td>14.00</td>\n",
       "      <td>12/6/2014</td>\n",
       "      <td>4264</td>\n",
       "      <td>Unspeakable Phoenix</td>\n",
       "      <td>Harry P., Daphne G.</td>\n",
       "      <td>Adventure/Romance</td>\n",
       "      <td>English</td>\n",
       "      <td>M</td>\n",
       "      <td>https://www.fanfiction.net/s/9332263/1/Hidden-Secrets</td>\n",
       "      <td>Summary: Harry is a mega powerful wizard, still good though with Slytherin friends. Harry gets resorted in fourth year and is secretly dating Daphne until his fourteenth birthd...</td>\n",
       "      <td>Hidden Secrets</td>\n",
       "      <td>5-2013</td>\n",
       "      <td>NaN</td>\n",
       "    </tr>\n",
       "    <tr>\n",
       "      <th>48268</th>\n",
       "      <td>1</td>\n",
       "      <td>30.00</td>\n",
       "      <td>31.00</td>\n",
       "      <td>11/17/2017</td>\n",
       "      <td>4.00</td>\n",
       "      <td>3/5/2018</td>\n",
       "      <td>1906</td>\n",
       "      <td>reviews</td>\n",
       "      <td>[Tom R. Jr., OC] Severus S.</td>\n",
       "      <td>Romance/Adventure</td>\n",
       "      <td>English</td>\n",
       "      <td>T</td>\n",
       "      <td>https://www.fanfiction.net/s/12728541/1/His-Most-Faithful</td>\n",
       "      <td>Instead of a child to defeat the Dark Lord, what if Fate send a child to help him win the war? Divini Le Fay made her journey to Hogwarts and later becomes the Dark Lord's most...</td>\n",
       "      <td>His Most Faithful</td>\n",
       "      <td>11-2017</td>\n",
       "      <td>Tom R. Jr., OC</td>\n",
       "    </tr>\n",
       "  </tbody>\n",
       "</table>\n",
       "</div>"
      ],
      "text/plain": [
       "        Chapters  Favs  Follows    Published  Reviews     Updated   Words  \\\n",
       "587150         1  1.00     3.00     2/3/2006     1.00         NaN     622   \n",
       "20320         96 61.00    48.00   12/30/2018    48.00    4/9/2019  346390   \n",
       "582614         1   NaN      NaN     3/6/2006     2.00         NaN     182   \n",
       "199722         3 71.00    71.00    5/27/2013    14.00   12/6/2014    4264   \n",
       "48268          1 30.00    31.00   11/17/2017     4.00    3/5/2018    1906   \n",
       "\n",
       "                     author                               characters  \\\n",
       "587150              reviews                      Hermione G., Ron W.   \n",
       "20320        girlfromkerteh  Sirius B., Remus L., James P., Peter P.   \n",
       "582614              reviews                      Remus L., Sirius B.   \n",
       "199722  Unspeakable Phoenix                      Harry P., Daphne G.   \n",
       "48268               reviews              [Tom R. Jr., OC] Severus S.   \n",
       "\n",
       "                    genre language rating  \\\n",
       "587150                NaN  English      T   \n",
       "20320       Angst/Romance  English      M   \n",
       "582614                NaN  English      K   \n",
       "199722  Adventure/Romance  English      M   \n",
       "48268   Romance/Adventure  English      T   \n",
       "\n",
       "                                                               story_link  \\\n",
       "587150  https://www.fanfiction.net/s/2783366/1/The-Sevenths-of-Year-Seven   \n",
       "20320     https://www.fanfiction.net/s/13162705/1/No-Such-Thing-As-Normal   \n",
       "582614             https://www.fanfiction.net/s/2832277/1/Long-Black-Hair   \n",
       "199722              https://www.fanfiction.net/s/9332263/1/Hidden-Secrets   \n",
       "48268           https://www.fanfiction.net/s/12728541/1/His-Most-Faithful   \n",
       "\n",
       "                                                                                                                                                                                   synopsis  \\\n",
       "587150                                                                                                                        Ron and Hermione. Intermittent moments on the Horcrux search.   \n",
       "20320   Forming the Marauders was the best thing that happened to all four of them, they lived for the camaraderie. But friendship doesn't come without a few misunderstandings, secrets...   \n",
       "582614                                                                                                                  A poem about Remus mourning Sirius after the fall through the veil.   \n",
       "199722  Summary: Harry is a mega powerful wizard, still good though with Slytherin friends. Harry gets resorted in fourth year and is secretly dating Daphne until his fourteenth birthd...   \n",
       "48268   Instead of a child to defeat the Dark Lord, what if Fate send a child to help him win the war? Divini Le Fay made her journey to Hogwarts and later becomes the Dark Lord's most...   \n",
       "\n",
       "                             title published_mmyy              pairing  \n",
       "587150  The Sevenths of Year Seven         2-2006  Hermione G., Ron W.  \n",
       "20320      No Such Thing As Normal        12-2018                  NaN  \n",
       "582614             Long Black Hair         3-2006  Remus L., Sirius B.  \n",
       "199722              Hidden Secrets         5-2013                  NaN  \n",
       "48268            His Most Faithful        11-2017       Tom R. Jr., OC  "
      ]
     },
     "execution_count": 18,
     "metadata": {},
     "output_type": "execute_result"
    }
   ],
   "source": [
    "pd.options.display.max_colwidth = 180 ###\n",
    "#file = \"$BASE_DIR/data/English-presentation-dataset/hpclean_engl.csv.gz\"\n",
    "file = f\"{BASE_DIR}/data/English-presentation-dataset/hpclean_engl.csv.gz\" #location of the file\n",
    "df = pd.read_csv(file, index_col = 0)\n",
    "df.sample(5, random_state=53)"
   ]
  },
  {
   "cell_type": "markdown",
   "id": "ddaa4329",
   "metadata": {},
   "source": [
    "## Data Preparation\n",
    "### Column names standardization"
   ]
  },
  {
   "cell_type": "code",
   "execution_count": 20,
   "id": "baed98eb",
   "metadata": {},
   "outputs": [],
   "source": [
    "# Changing the column names to simplify the analysis : removing capital letters and labeling \"summary\" as \"text\"\n",
    "df.columns = ['chapters', 'favs', 'follows', 'published', 'reviews', 'updated',\n",
    "       'words', 'author', 'characters', 'genre', 'language', 'rating',\n",
    "       'story_link', 'text', 'title', 'published_mmyy', 'pairing']"
   ]
  },
  {
   "cell_type": "markdown",
   "id": "c80e1702",
   "metadata": {},
   "source": [
    "### Checking Missing Data"
   ]
  },
  {
   "cell_type": "code",
   "execution_count": 23,
   "id": "c91d7500",
   "metadata": {},
   "outputs": [
    {
     "data": {
      "text/plain": [
       "chapters               0\n",
       "favs               56502\n",
       "follows           108186\n",
       "published              0\n",
       "reviews            40723\n",
       "updated           322008\n",
       "words                  0\n",
       "author                 0\n",
       "characters         51657\n",
       "genre              48073\n",
       "language               0\n",
       "rating                 0\n",
       "story_link             0\n",
       "text                  10\n",
       "title                 14\n",
       "published_mmyy         0\n",
       "pairing           201460\n",
       "dtype: int64"
      ]
     },
     "execution_count": 23,
     "metadata": {},
     "output_type": "execute_result"
    }
   ],
   "source": [
    "df.isna().sum()"
   ]
  },
  {
   "cell_type": "markdown",
   "id": "c77d65d8",
   "metadata": {},
   "source": [
    "We will remove text with no summary nor title, since they will get problematic during our analysis."
   ]
  },
  {
   "cell_type": "code",
   "execution_count": 24,
   "id": "463a48ab",
   "metadata": {},
   "outputs": [],
   "source": [
    "df['text'].dropna(inplace = True)\n",
    "df['title'].dropna(inplace = True)"
   ]
  },
  {
   "cell_type": "markdown",
   "id": "92fe675c",
   "metadata": {},
   "source": [
    "## Checking Types"
   ]
  },
  {
   "cell_type": "code",
   "execution_count": 34,
   "id": "c80c2d55",
   "metadata": {},
   "outputs": [
    {
     "data": {
      "text/plain": [
       "chapters            int64\n",
       "favs              float64\n",
       "follows           float64\n",
       "published          object\n",
       "reviews           float64\n",
       "updated            object\n",
       "words               int64\n",
       "author             object\n",
       "characters         object\n",
       "genre              object\n",
       "language           object\n",
       "rating             object\n",
       "story_link         object\n",
       "text               object\n",
       "title              object\n",
       "published_mmyy     object\n",
       "pairing            object\n",
       "dtype: object"
      ]
     },
     "execution_count": 34,
     "metadata": {},
     "output_type": "execute_result"
    }
   ],
   "source": [
    "df.dtypes"
   ]
  },
  {
   "cell_type": "code",
   "execution_count": 37,
   "id": "925a4d89",
   "metadata": {},
   "outputs": [],
   "source": [
    "df[['text', 'title']] = df[['text', 'title']].astype('str')"
   ]
  },
  {
   "cell_type": "markdown",
   "id": "58c3ee3e",
   "metadata": {},
   "source": [
    "# Text Preprocessing"
   ]
  },
  {
   "cell_type": "markdown",
   "id": "367793a8",
   "metadata": {},
   "source": [
    "## Tokenization with regular expression"
   ]
  },
  {
   "cell_type": "code",
   "execution_count": 31,
   "id": "71edb175",
   "metadata": {},
   "outputs": [],
   "source": [
    "import regex as re\n",
    "\n",
    "def tokenize(text):\n",
    "    return re.findall(r'[\\w-]*\\p{L}[\\w-]*', text)"
   ]
  },
  {
   "cell_type": "markdown",
   "id": "7b77a3a2",
   "metadata": {},
   "source": [
    "## Treating Stop Words"
   ]
  },
  {
   "cell_type": "code",
   "execution_count": 25,
   "id": "595ef0cb",
   "metadata": {},
   "outputs": [
    {
     "name": "stderr",
     "output_type": "stream",
     "text": [
      "[nltk_data] Downloading package stopwords to\n",
      "[nltk_data]     C:\\Users\\pauli\\AppData\\Roaming\\nltk_data...\n",
      "[nltk_data]   Package stopwords is already up-to-date!\n"
     ]
    },
    {
     "data": {
      "text/plain": [
       "True"
      ]
     },
     "execution_count": 25,
     "metadata": {},
     "output_type": "execute_result"
    }
   ],
   "source": [
    "import nltk\n",
    "# not in book: make sure stop words are available\n",
    "nltk.download('stopwords')"
   ]
  },
  {
   "cell_type": "code",
   "execution_count": 26,
   "id": "d8ee4afb",
   "metadata": {},
   "outputs": [],
   "source": [
    "import nltk\n",
    "\n",
    "stopwords = set(nltk.corpus.stopwords.words('english'))"
   ]
  },
  {
   "cell_type": "code",
   "execution_count": 27,
   "id": "2b6f85dd",
   "metadata": {},
   "outputs": [],
   "source": [
    "def remove_stop(tokens):\n",
    "    return [t for t in tokens if t.lower() not in stopwords]"
   ]
  },
  {
   "cell_type": "markdown",
   "id": "288b48e8",
   "metadata": {},
   "source": [
    "Select the type of stop words to include or not in the list : this action depends heavily on the type of dataset. At a first analysis, we will not add any stop words but we may add this information later on."
   ]
  },
  {
   "cell_type": "code",
   "execution_count": 29,
   "id": "b0aefaa5",
   "metadata": {},
   "outputs": [],
   "source": [
    "include_stopwords = {''}\n",
    "exclude_stopwords = {'against'}\n",
    "\n",
    "stopwords |= include_stopwords\n",
    "stopwords -= exclude_stopwords"
   ]
  },
  {
   "cell_type": "markdown",
   "id": "b04a9a84",
   "metadata": {},
   "source": [
    "## Processing a Pipeline with one Line of Code"
   ]
  },
  {
   "cell_type": "code",
   "execution_count": 32,
   "id": "d8b2d3d4",
   "metadata": {},
   "outputs": [],
   "source": [
    "pipeline = [str.lower, tokenize, remove_stop]\n",
    "\n",
    "def prepare(text, pipeline):\n",
    "    tokens = text\n",
    "    for transform in pipeline:\n",
    "        tokens = transform(tokens)\n",
    "    return tokens"
   ]
  },
  {
   "cell_type": "code",
   "execution_count": 38,
   "id": "589727f0",
   "metadata": {},
   "outputs": [
    {
     "name": "stderr",
     "output_type": "stream",
     "text": [
      "100%|██████████| 506057/506057 [00:24<00:00, 20276.24it/s]\n"
     ]
    }
   ],
   "source": [
    "df['tokens'] = df['text'].progress_apply(prepare, pipeline=pipeline)"
   ]
  },
  {
   "cell_type": "markdown",
   "id": "b564f2b5",
   "metadata": {},
   "source": [
    "# Analysing word Frequency"
   ]
  },
  {
   "cell_type": "code",
   "execution_count": 39,
   "id": "f948fa97",
   "metadata": {},
   "outputs": [],
   "source": [
    "from collections import Counter ###\n",
    "def count_words(df, column='tokens', preprocess=None, min_freq=2):\n",
    "\n",
    "    # process tokens and update counter\n",
    "    def update(doc):\n",
    "        tokens = doc if preprocess is None else preprocess(doc)\n",
    "        counter.update(tokens)\n",
    "\n",
    "    # create counter and run through all data\n",
    "    counter = Counter()\n",
    "    df[column].progress_map(update)\n",
    "\n",
    "    # transform counter into data frame\n",
    "    freq_df = pd.DataFrame.from_dict(counter, orient='index', columns=['freq'])\n",
    "    freq_df = freq_df.query('freq >= @min_freq')\n",
    "    freq_df.index.name = 'token'\n",
    "    \n",
    "    return freq_df.sort_values('freq', ascending=False)"
   ]
  },
  {
   "cell_type": "code",
   "execution_count": 40,
   "id": "670c57af",
   "metadata": {},
   "outputs": [
    {
     "name": "stderr",
     "output_type": "stream",
     "text": [
      "100%|██████████| 506057/506057 [00:03<00:00, 164682.35it/s]\n"
     ]
    },
    {
     "data": {
      "text/html": [
       "<div>\n",
       "<style scoped>\n",
       "    .dataframe tbody tr th:only-of-type {\n",
       "        vertical-align: middle;\n",
       "    }\n",
       "\n",
       "    .dataframe tbody tr th {\n",
       "        vertical-align: top;\n",
       "    }\n",
       "\n",
       "    .dataframe thead th {\n",
       "        text-align: right;\n",
       "    }\n",
       "</style>\n",
       "<table border=\"1\" class=\"dataframe tex2jax_ignore\">\n",
       "  <thead>\n",
       "    <tr style=\"text-align: right;\">\n",
       "      <th></th>\n",
       "      <th>freq</th>\n",
       "    </tr>\n",
       "    <tr>\n",
       "      <th>token</th>\n",
       "      <th></th>\n",
       "    </tr>\n",
       "  </thead>\n",
       "  <tbody>\n",
       "    <tr>\n",
       "      <th>harry</th>\n",
       "      <td>183954</td>\n",
       "    </tr>\n",
       "    <tr>\n",
       "      <th>hermione</th>\n",
       "      <td>103467</td>\n",
       "    </tr>\n",
       "    <tr>\n",
       "      <th>one</th>\n",
       "      <td>81663</td>\n",
       "    </tr>\n",
       "    <tr>\n",
       "      <th>draco</th>\n",
       "      <td>77793</td>\n",
       "    </tr>\n",
       "    <tr>\n",
       "      <th>hogwarts</th>\n",
       "      <td>63975</td>\n",
       "    </tr>\n",
       "  </tbody>\n",
       "</table>\n",
       "</div>"
      ],
      "text/plain": [
       "            freq\n",
       "token           \n",
       "harry     183954\n",
       "hermione  103467\n",
       "one        81663\n",
       "draco      77793\n",
       "hogwarts   63975"
      ]
     },
     "execution_count": 40,
     "metadata": {},
     "output_type": "execute_result"
    }
   ],
   "source": [
    "freq_df = count_words(df)\n",
    "freq_df.head(5)"
   ]
  },
  {
   "cell_type": "code",
   "execution_count": 41,
   "id": "85c1ec0b",
   "metadata": {},
   "outputs": [
    {
     "data": {
      "text/html": [
       "<div>\n",
       "<style scoped>\n",
       "    .dataframe tbody tr th:only-of-type {\n",
       "        vertical-align: middle;\n",
       "    }\n",
       "\n",
       "    .dataframe tbody tr th {\n",
       "        vertical-align: top;\n",
       "    }\n",
       "\n",
       "    .dataframe thead th {\n",
       "        text-align: right;\n",
       "    }\n",
       "</style>\n",
       "<table border=\"1\" class=\"dataframe tex2jax_ignore\">\n",
       "  <thead>\n",
       "    <tr style=\"text-align: right;\">\n",
       "      <th></th>\n",
       "      <th>freq</th>\n",
       "    </tr>\n",
       "    <tr>\n",
       "      <th>token</th>\n",
       "      <th></th>\n",
       "    </tr>\n",
       "  </thead>\n",
       "  <tbody>\n",
       "    <tr>\n",
       "      <th>harry</th>\n",
       "      <td>183954</td>\n",
       "    </tr>\n",
       "    <tr>\n",
       "      <th>hermione</th>\n",
       "      <td>103467</td>\n",
       "    </tr>\n",
       "    <tr>\n",
       "      <th>one</th>\n",
       "      <td>81663</td>\n",
       "    </tr>\n",
       "    <tr>\n",
       "      <th>draco</th>\n",
       "      <td>77793</td>\n",
       "    </tr>\n",
       "    <tr>\n",
       "      <th>hogwarts</th>\n",
       "      <td>63975</td>\n",
       "    </tr>\n",
       "    <tr>\n",
       "      <th>potter</th>\n",
       "      <td>60048</td>\n",
       "    </tr>\n",
       "    <tr>\n",
       "      <th>year</th>\n",
       "      <td>53544</td>\n",
       "    </tr>\n",
       "    <tr>\n",
       "      <th>story</th>\n",
       "      <td>50236</td>\n",
       "    </tr>\n",
       "    <tr>\n",
       "      <th>love</th>\n",
       "      <td>49870</td>\n",
       "    </tr>\n",
       "    <tr>\n",
       "      <th>life</th>\n",
       "      <td>47241</td>\n",
       "    </tr>\n",
       "  </tbody>\n",
       "</table>\n",
       "</div>"
      ],
      "text/plain": [
       "            freq\n",
       "token           \n",
       "harry     183954\n",
       "hermione  103467\n",
       "one        81663\n",
       "draco      77793\n",
       "hogwarts   63975\n",
       "potter     60048\n",
       "year       53544\n",
       "story      50236\n",
       "love       49870\n",
       "life       47241"
      ]
     },
     "execution_count": 41,
     "metadata": {},
     "output_type": "execute_result"
    }
   ],
   "source": [
    "freq_df.head(10)"
   ]
  },
  {
   "cell_type": "markdown",
   "id": "0b448d87",
   "metadata": {},
   "source": [
    "## Frequency Diagram"
   ]
  },
  {
   "cell_type": "code",
   "execution_count": 43,
   "id": "c492be0e",
   "metadata": {},
   "outputs": [
    {
     "data": {
      "text/plain": [
       "[Text(0.5, 0, 'Frequency'), Text(0, 0.5, 'Token'), Text(0.5, 1.0, 'Top Words')]"
      ]
     },
     "execution_count": 43,
     "metadata": {},
     "output_type": "execute_result"
    },
    {
     "data": {
      "image/png": "[encoded data removed]",
      "text/plain": [
       "<Figure size 800x300 with 1 Axes>"
      ]
     },
     "metadata": {},
     "output_type": "display_data"
    }
   ],
   "source": [
    "ax = freq_df.head(20).plot(kind='barh', width=0.95, figsize=(8,3))\n",
    "ax.invert_yaxis()\n",
    "ax.set(xlabel='Frequency', ylabel='Token', title='Top Words')"
   ]
  },
  {
   "cell_type": "code",
   "execution_count": null,
   "id": "36a14548",
   "metadata": {},
   "outputs": [],
   "source": []
  }
 ],
 "metadata": {
  "kernelspec": {
   "display_name": "Python 3 (ipykernel)",
   "language": "python",
   "name": "python3"
  },
  "language_info": {
   "codemirror_mode": {
    "name": "ipython",
    "version": 3
   },
   "file_extension": ".py",
   "mimetype": "text/x-python",
   "name": "python",
   "nbconvert_exporter": "python",
   "pygments_lexer": "ipython3",
   "version": "3.8.13"
  }
 },
 "nbformat": 4,
 "nbformat_minor": 5
}
